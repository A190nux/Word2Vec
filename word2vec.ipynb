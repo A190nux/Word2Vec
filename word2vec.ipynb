{
  "nbformat": 4,
  "nbformat_minor": 0,
  "metadata": {
    "colab": {
      "provenance": [],
      "authorship_tag": "ABX9TyMrAA+PfREB8g4yhomE42qW",
      "include_colab_link": true
    },
    "kernelspec": {
      "name": "python3",
      "display_name": "Python 3"
    },
    "language_info": {
      "name": "python"
    }
  },
  "cells": [
    {
      "cell_type": "markdown",
      "metadata": {
        "id": "view-in-github",
        "colab_type": "text"
      },
      "source": [
        "<a href=\"https://colab.research.google.com/github/A190nux/Word2Vec/blob/main/word2vec.ipynb\" target=\"_parent\"><img src=\"https://colab.research.google.com/assets/colab-badge.svg\" alt=\"Open In Colab\"/></a>"
      ]
    },
    {
      "cell_type": "code",
      "source": [
        "!pip install gensim"
      ],
      "metadata": {
        "colab": {
          "base_uri": "https://localhost:8080/"
        },
        "id": "JDy-2zIMTlkD",
        "outputId": "99606868-0bee-4d36-ce10-5027be1d650f"
      },
      "execution_count": 1,
      "outputs": [
        {
          "output_type": "stream",
          "name": "stdout",
          "text": [
            "Requirement already satisfied: gensim in /usr/local/lib/python3.11/dist-packages (4.3.3)\n",
            "Requirement already satisfied: numpy<2.0,>=1.18.5 in /usr/local/lib/python3.11/dist-packages (from gensim) (1.26.4)\n",
            "Requirement already satisfied: scipy<1.14.0,>=1.7.0 in /usr/local/lib/python3.11/dist-packages (from gensim) (1.13.1)\n",
            "Requirement already satisfied: smart-open>=1.8.1 in /usr/local/lib/python3.11/dist-packages (from gensim) (7.1.0)\n",
            "Requirement already satisfied: wrapt in /usr/local/lib/python3.11/dist-packages (from smart-open>=1.8.1->gensim) (1.17.2)\n"
          ]
        }
      ]
    },
    {
      "cell_type": "code",
      "source": [
        "import numpy as np\n",
        "import gensim.downloader as api\n",
        "\n",
        "print(\"Available Models:\")\n",
        "print(api.info()['models'].keys())"
      ],
      "metadata": {
        "colab": {
          "base_uri": "https://localhost:8080/"
        },
        "id": "aQdwMqEITHnM",
        "outputId": "5e8f6d52-ac96-4780-c2f5-fe5e82ff6308"
      },
      "execution_count": 2,
      "outputs": [
        {
          "output_type": "stream",
          "name": "stdout",
          "text": [
            "Available Models:\n",
            "dict_keys(['fasttext-wiki-news-subwords-300', 'conceptnet-numberbatch-17-06-300', 'word2vec-ruscorpora-300', 'word2vec-google-news-300', 'glove-wiki-gigaword-50', 'glove-wiki-gigaword-100', 'glove-wiki-gigaword-200', 'glove-wiki-gigaword-300', 'glove-twitter-25', 'glove-twitter-50', 'glove-twitter-100', 'glove-twitter-200', '__testing_word2vec-matrix-synopsis'])\n"
          ]
        }
      ]
    },
    {
      "cell_type": "code",
      "source": [
        "model = api.load(\"glove-wiki-gigaword-100\")"
      ],
      "metadata": {
        "id": "TrDKOwv2TdgW"
      },
      "execution_count": 3,
      "outputs": []
    },
    {
      "cell_type": "code",
      "source": [
        "def cbow_predict(context_words, model, topn=5):\n",
        "    \"\"\"\n",
        "    Predict target word given context words using CBOW approach with model.most_similar\n",
        "    \"\"\"\n",
        "    valid_words = [word for word in context_words if word in model]\n",
        "    if not valid_words:\n",
        "        return []\n",
        "\n",
        "    context_vectors = []\n",
        "    valid_words = []\n",
        "    for word in context_words:\n",
        "        if word in model:\n",
        "            context_vectors.append(model[word])\n",
        "            valid_words.append(word)\n",
        "\n",
        "    if not context_vectors:\n",
        "        return []\n",
        "\n",
        "    vector = np.mean(context_vectors, axis=0)\n",
        "\n",
        "    return model.most_similar(positive=vector, topn=topn)\n",
        "\n",
        "\n",
        "\n",
        "def skipgram_predict(target_word, model, topn=5):\n",
        "    \"\"\"\n",
        "    Predict context words given a target word using Skip-gram approach with model.most_similar\n",
        "    \"\"\"\n",
        "    if target_word not in model:\n",
        "        return []\n",
        "\n",
        "    vector = []\n",
        "    if target_word in model:\n",
        "        vector = model[target_word]\n",
        "\n",
        "\n",
        "    return model.most_similar(vector, topn=topn)"
      ],
      "metadata": {
        "id": "zMGEpCqwWRiP"
      },
      "execution_count": 24,
      "outputs": []
    },
    {
      "cell_type": "code",
      "source": [
        "target_word = \"cat\"\n",
        "predictions = skipgram_predict(target_word, model)\n",
        "print(f\"Skip-gram predictions for target word '{target_word}': {predictions}\")"
      ],
      "metadata": {
        "colab": {
          "base_uri": "https://localhost:8080/"
        },
        "id": "6jVl7xxqYh8z",
        "outputId": "75989535-29bd-4888-bccb-baa38ac8fadb"
      },
      "execution_count": 25,
      "outputs": [
        {
          "output_type": "stream",
          "name": "stdout",
          "text": [
            "Skip-gram predictions for target word 'cat': [('cat', 0.9999998807907104), ('dog', 0.8798074722290039), ('rabbit', 0.7424427270889282), ('cats', 0.732300341129303), ('monkey', 0.7288710474967957)]\n"
          ]
        }
      ]
    },
    {
      "cell_type": "code",
      "source": [
        "target_word = \"king\"\n",
        "predictions = skipgram_predict(target_word, model)\n",
        "print(f\"Skip-gram predictions for target word '{target_word}': {predictions}\")"
      ],
      "metadata": {
        "colab": {
          "base_uri": "https://localhost:8080/"
        },
        "id": "KElo1bbFY9KJ",
        "outputId": "633985ff-b2e2-4ffa-fba1-aba8884552ca"
      },
      "execution_count": 26,
      "outputs": [
        {
          "output_type": "stream",
          "name": "stdout",
          "text": [
            "Skip-gram predictions for target word 'king': [('king', 1.0), ('prince', 0.7682328820228577), ('queen', 0.7507690787315369), ('son', 0.7020888328552246), ('brother', 0.6985775232315063)]\n"
          ]
        }
      ]
    },
    {
      "cell_type": "code",
      "source": [
        "context_words = [\"the\", \"cat\", \"on\", \"the\", \"mat\"]\n",
        "predictions = cbow_predict(context_words, model, topn = 1)\n",
        "print(f\"CBOW predictions for context words '{context_words}': {predictions}\")"
      ],
      "metadata": {
        "colab": {
          "base_uri": "https://localhost:8080/"
        },
        "id": "iEMZw-a_ZAVB",
        "outputId": "9f8c7916-9a18-4180-a41f-89faf5a13a2c"
      },
      "execution_count": 27,
      "outputs": [
        {
          "output_type": "stream",
          "name": "stdout",
          "text": [
            "CBOW predictions for context words '['the', 'cat', 'on', 'the', 'mat']': [('the', 0.9126800894737244)]\n"
          ]
        }
      ]
    },
    {
      "cell_type": "code",
      "source": [],
      "metadata": {
        "id": "Lvyletf8ZD6W"
      },
      "execution_count": null,
      "outputs": []
    }
  ]
}